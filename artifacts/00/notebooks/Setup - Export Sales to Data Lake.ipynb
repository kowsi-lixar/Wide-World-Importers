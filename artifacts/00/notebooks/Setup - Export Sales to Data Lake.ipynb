{
  "metadata": {
    "language_info": {
      "name": "python"
    },
    "sessionKeepAliveTimeout": 30
  },
  "nbformat": 4,
  "nbformat_minor": 2,
  "cells": [
    {
      "cell_type": "code",
      "execution_count": 4,
      "outputs": [],
      "metadata": {},
      "source": [
        "%%pyspark\n",
        "wwi_sales = spark \\\n",
        "    .read \\\n",
        "    .option(\"sep\",\"|\") \\\n",
        "    .load('abfss://dev@<primary_storage>.dfs.core.windows.net/bronze/wwi-factsale.csv', format=\"csv\", header=True)\n",
        "\n",
        "wwi_sales = wwi_sales \\\n",
        "    .withColumnRenamed('Sale Key', 'SaleKey') \\\n",
        "    .withColumnRenamed('City Key', 'CityKey') \\\n",
        "    .withColumnRenamed('Customer Key', 'CustomerKey') \\\n",
        "    .withColumnRenamed('Bill To Customer Key', 'BillToCustomerKey') \\\n",
        "    .withColumnRenamed('Stock Item Key', 'StockItemKey') \\\n",
        "    .withColumnRenamed('Invoice Date Key', 'InvoiceDateKey') \\\n",
        "    .withColumnRenamed('Delivery Date Key', 'DeliveryDateKey') \\\n",
        "    .withColumnRenamed('Salesperson Key', 'SalespersonKey') \\\n",
        "    .withColumnRenamed('WWI Invoice ID', 'WWIInvoiceID') \\\n",
        "    .withColumnRenamed('Description', 'Description') \\\n",
        "    .withColumnRenamed('Package', 'Package') \\\n",
        "    .withColumnRenamed('Quantity', 'Quantity') \\\n",
        "    .withColumnRenamed('Unit Price', 'UnitPrice') \\\n",
        "    .withColumnRenamed('Tax Rate', 'TaxRate') \\\n",
        "    .withColumnRenamed('Total Excluding Tax', 'TotalExcludingTax') \\\n",
        "    .withColumnRenamed('Tax Amount', 'TaxAmount') \\\n",
        "    .withColumnRenamed('Profit', 'Profit') \\\n",
        "    .withColumnRenamed('Total Including Tax', 'TotalIncludingTax') \\\n",
        "    .withColumnRenamed('Total Dry Items', 'TotalDryItems') \\\n",
        "    .withColumnRenamed('Total Chiller Items', 'TotalChillerItems') \\\n",
        "    .withColumnRenamed('Lineage Key', 'LineageKey')"
      ]
    },
    {
      "cell_type": "code",
      "execution_count": null,
      "outputs": [],
      "metadata": {},
      "source": [
        "import numpy as np\n",
        "from datetime import datetime\n",
        "from dateutil.relativedelta import relativedelta"
      ],
      "attachments": {}
    },
    {
      "cell_type": "markdown",
      "metadata": {},
      "source": [
        "### Export WWI sales data to parquet files\n",
        ""
      ],
      "attachments": {}
    },
    {
      "cell_type": "code",
      "execution_count": 28,
      "outputs": [
        {
          "execution_count": 28,
          "output_type": "execute_result",
          "data": {
            "text/plain": "Exporting data for 2012 Q1 (2012-01-01 : 2012-03-31) ...\nExporting data for 2012 Q2 (2012-04-01 : 2012-06-30) ...\nExporting data for 2012 Q3 (2012-07-01 : 2012-09-30) ...\nExporting data for 2012 Q4 (2012-10-01 : 2012-12-31) ...\nExporting data for 2013 Q1 (2013-01-01 : 2013-03-31) ...\nExporting data for 2013 Q2 (2013-04-01 : 2013-06-30) ...\nExporting data for 2013 Q3 (2013-07-01 : 2013-09-30) ...\nExporting data for 2013 Q4 (2013-10-01 : 2013-12-31) ...\nExporting data for 2014 Q1 (2014-01-01 : 2014-03-31) ...\nExporting data for 2014 Q2 (2014-04-01 : 2014-06-30) ...\nExporting data for 2014 Q3 (2014-07-01 : 2014-09-30) ...\nExporting data for 2014 Q4 (2014-10-01 : 2014-12-31) ...\nExporting data for 2015 Q1 (2015-01-01 : 2015-03-31) ...\nExporting data for 2015 Q2 (2015-04-01 : 2015-06-30) ...\nExporting data for 2015 Q3 (2015-07-01 : 2015-09-30) ...\nExporting data for 2015 Q4 (2015-10-01 : 2015-12-31) ...\nExporting data for 2016 Q1 (2016-01-01 : 2016-03-31) ...\nExporting data for 2016 Q2 (2016-04-01 : 2016-06-30) ...\nExporting data for 2016 Q3 (2016-07-01 : 2016-09-30) ...\nExporting data for 2016 Q4 (2016-10-01 : 2016-12-31) ..."
          },
          "metadata": {}
        }
      ],
      "metadata": {},
      "source": [
        "quarters = 20\n",
        "start_date = datetime(2012, 1, 1)\n",
        "\n",
        "for quarter in np.arange(1, quarters + 1):\n",
        "\n",
        "    quarter_number = 4 if quarter % 4 == 0 else quarter % 4\n",
        "    end_date = start_date + relativedelta(months=3) + relativedelta(days=-1)\n",
        "    \n",
        "    print(f'Exporting data for {start_date.year} Q{quarter_number} ({start_date:%Y-%m-%d} : {end_date:%Y-%m-%d}) ...')\n",
        "\n",
        "    storage_path_parquet = f'abfss://wwi@<primary_storage>.dfs.core.windows.net/factsale-parquet/{start_date.year}/Q{quarter_number}'\n",
        "\n",
        "    wwi_sales \\\n",
        "        .where((wwi_sales['InvoiceDateKey'] >= f'{start_date:%Y-%m-%d}') & (wwi_sales['InvoiceDateKey'] <= f'{end_date:%Y-%m-%d}')) \\\n",
        "        .write \\\n",
        "        .partitionBy('InvoiceDateKey') \\\n",
        "        .mode(\"overwrite\") \\\n",
        "        .parquet(storage_path_parquet)\n",
        "\n",
        "    start_date = end_date + relativedelta(days=1)"
      ],
      "attachments": {}
    },
    {
      "cell_type": "markdown",
      "metadata": {},
      "source": [
        "### Export WWI sales data to CSV files\n",
        ""
      ],
      "attachments": {}
    },
    {
      "cell_type": "code",
      "execution_count": 31,
      "outputs": [
        {
          "execution_count": 31,
          "output_type": "execute_result",
          "data": {
            "text/plain": "Exporting data for 2012 Q1 (2012-01-01 : 2012-03-31) ...\nExporting data for 2012 Q2 (2012-04-01 : 2012-06-30) ...\nExporting data for 2012 Q3 (2012-07-01 : 2012-09-30) ...\nExporting data for 2012 Q4 (2012-10-01 : 2012-12-31) ...\nExporting data for 2013 Q1 (2013-01-01 : 2013-03-31) ...\nExporting data for 2013 Q2 (2013-04-01 : 2013-06-30) ...\nExporting data for 2013 Q3 (2013-07-01 : 2013-09-30) ...\nExporting data for 2013 Q4 (2013-10-01 : 2013-12-31) ...\nExporting data for 2014 Q1 (2014-01-01 : 2014-03-31) ...\nExporting data for 2014 Q2 (2014-04-01 : 2014-06-30) ...\nExporting data for 2014 Q3 (2014-07-01 : 2014-09-30) ...\nExporting data for 2014 Q4 (2014-10-01 : 2014-12-31) ...\nExporting data for 2015 Q1 (2015-01-01 : 2015-03-31) ...\nExporting data for 2015 Q2 (2015-04-01 : 2015-06-30) ...\nExporting data for 2015 Q3 (2015-07-01 : 2015-09-30) ...\nExporting data for 2015 Q4 (2015-10-01 : 2015-12-31) ...\nExporting data for 2016 Q1 (2016-01-01 : 2016-03-31) ...\nExporting data for 2016 Q2 (2016-04-01 : 2016-06-30) ...\nExporting data for 2016 Q3 (2016-07-01 : 2016-09-30) ...\nExporting data for 2016 Q4 (2016-10-01 : 2016-12-31) ..."
          },
          "metadata": {}
        }
      ],
      "metadata": {},
      "source": [
        "quarters = 20\n",
        "start_date = datetime(2012, 1, 1)\n",
        "\n",
        "for quarter in np.arange(1, quarters + 1):\n",
        "\n",
        "    quarter_number = 4 if quarter % 4 == 0 else quarter % 4\n",
        "    end_date = start_date + relativedelta(months=3) + relativedelta(days=-1)\n",
        "    \n",
        "    print(f'Exporting data for {start_date.year} Q{quarter_number} ({start_date:%Y-%m-%d} : {end_date:%Y-%m-%d}) ...')\n",
        "\n",
        "    storage_path_csv = f'abfss://wwi@<primary_storage>.dfs.core.windows.net/factsale-csv/{start_date.year}/Q{quarter_number}'\n",
        "\n",
        "    wwi_sales \\\n",
        "        .where((wwi_sales['InvoiceDateKey'] >= f'{start_date:%Y-%m-%d}') & (wwi_sales['InvoiceDateKey'] <= f'{end_date:%Y-%m-%d}')) \\\n",
        "        .write \\\n",
        "        .partitionBy('InvoiceDateKey') \\\n",
        "        .mode(\"overwrite\") \\\n",
        "        .option(\"quote\", \"\\u0000\") \\\n",
        "        .option(\"sep\",\"|\") \\\n",
        "        .csv(storage_path_csv, header=True)\n",
        "\n",
        "    start_date = end_date + relativedelta(days=1)"
      ],
      "attachments": {}
    }
  ]
}